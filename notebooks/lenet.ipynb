{
 "cells": [
  {
   "cell_type": "markdown",
   "metadata": {},
   "source": [
    "# Convolutional Neural Networks (LeNet)"
   ]
  },
  {
   "cell_type": "code",
   "execution_count": 9,
   "metadata": {
    "collapsed": true
   },
   "outputs": [],
   "source": [
    "import theano\n",
    "from theano import tensor as T\n",
    "from theano.tensor.nnet import conv\n",
    "\n",
    "import numpy\n",
    "\n",
    "rng = numpy.random.RandomState(23455)\n",
    "\n",
    "# instantiate 4D tensor for input\n",
    "input = T.tensor4(name='input')\n",
    "\n",
    "# initialize shared variable for weights.\n",
    "w_shp = (2, 3, 9, 9)\n",
    "w_bound = numpy.sqrt(3 * 9 * 9)\n",
    "W = theano.shared( numpy.asarray(\n",
    "            rng.uniform(\n",
    "                low=-1.0 / w_bound,\n",
    "                high=1.0 / w_bound,\n",
    "                size=w_shp),\n",
    "            dtype=input.dtype), name ='W')\n",
    "\n",
    "# initialize shared variable for bias (1D tensor) with random values\n",
    "# IMPORTANT: biases are usually initialized to zero. However in this\n",
    "# particular application, we simply apply the convolutional layer to\n",
    "# an image without learning the parameters. We therefore initialize\n",
    "# them to random values to \"simulate\" learning.\n",
    "b_shp = (2,)\n",
    "b = theano.shared(numpy.asarray(\n",
    "            rng.uniform(low=-.5, high=.5, size=b_shp),\n",
    "            dtype=input.dtype), name ='b')\n",
    "\n",
    "# build symbolic expression that computes the convolution of input with filters in w\n",
    "conv_out = conv.conv2d(input, W)\n",
    "\n",
    "# build symbolic expression to add bias and apply activation function, i.e. produce neural net layer output\n",
    "# A few words on ``dimshuffle`` :\n",
    "#   ``dimshuffle`` is a powerful tool in reshaping a tensor;\n",
    "#   what it allows you to do is to shuffle dimension around\n",
    "#   but also to insert new ones along which the tensor will be\n",
    "#   broadcastable;\n",
    "#   dimshuffle('x', 2, 'x', 0, 1)\n",
    "#   This will work on 3d tensors with no broadcastable\n",
    "#   dimensions. The first dimension will be broadcastable,\n",
    "#   then we will have the third dimension of the input tensor as\n",
    "#   the second of the resulting tensor, etc. If the tensor has\n",
    "#   shape (20, 30, 40), the resulting tensor will have dimensions\n",
    "#   (1, 40, 1, 20, 30). (AxBxC tensor is mapped to 1xCx1xAxB tensor)\n",
    "#   More examples:\n",
    "#    dimshuffle('x') -> make a 0d (scalar) into a 1d vector\n",
    "#    dimshuffle(0, 1) -> identity\n",
    "#    dimshuffle(1, 0) -> inverts the first and second dimensions\n",
    "#    dimshuffle('x', 0) -> make a row out of a 1d vector (N to 1xN)\n",
    "#    dimshuffle(0, 'x') -> make a column out of a 1d vector (N to Nx1)\n",
    "#    dimshuffle(2, 0, 1) -> AxBxC to CxAxB\n",
    "#    dimshuffle(0, 'x', 1) -> AxB to Ax1xB\n",
    "#    dimshuffle(1, 'x', 0) -> AxB to Bx1xA\n",
    "output = T.nnet.sigmoid(conv_out + b.dimshuffle('x', 0, 'x', 'x'))\n",
    "\n",
    "# create theano function to compute filtered images\n",
    "f = theano.function([input], output)"
   ]
  },
  {
   "cell_type": "code",
   "execution_count": 10,
   "metadata": {
    "collapsed": false
   },
   "outputs": [],
   "source": [
    "import numpy\n",
    "import pylab\n",
    "from PIL import Image\n",
    "\n",
    "# open random image of dimensions 639x516\n",
    "img = Image.open(open('../doc/images/3wolfmoon.jpg'))\n",
    "# dimensions are (height, width, channel)\n",
    "img = numpy.asarray(img, dtype='float64') / 256.\n",
    "\n",
    "# put image in 4D tensor of shape (1, 3, height, width)\n",
    "img_ = img.transpose(2, 0, 1).reshape(1, 3, 639, 516)\n",
    "filtered_img = f(img_)\n",
    "\n",
    "# plot original image and first and second components of output\n",
    "pylab.subplot(1, 3, 1); pylab.axis('off'); pylab.imshow(img)\n",
    "pylab.gray();\n",
    "# recall that the convOp output (filtered image) is actually a \"minibatch\",\n",
    "# of size 1 here, so we take index 0 in the first dimension:\n",
    "pylab.subplot(1, 3, 2); pylab.axis('off'); pylab.imshow(filtered_img[0, 0, :, :])\n",
    "pylab.subplot(1, 3, 3); pylab.axis('off'); pylab.imshow(filtered_img[0, 1, :, :])\n",
    "pylab.show()"
   ]
  },
  {
   "cell_type": "markdown",
   "metadata": {},
   "source": [
    "## Max-pooling"
   ]
  },
  {
   "cell_type": "code",
   "execution_count": 23,
   "metadata": {
    "collapsed": false
   },
   "outputs": [
    {
     "name": "stdout",
     "output_type": "stream",
     "text": [
      "With ignore_border set to True:\n",
      "invals[0, 0, :, :] =\n",
      "[[  4.17022005e-01   7.20324493e-01   1.14374817e-04   3.02332573e-01\n",
      "    1.46755891e-01]\n",
      " [  9.23385948e-02   1.86260211e-01   3.45560727e-01   3.96767474e-01\n",
      "    5.38816734e-01]\n",
      " [  4.19194514e-01   6.85219500e-01   2.04452250e-01   8.78117436e-01\n",
      "    2.73875932e-02]\n",
      " [  6.70467510e-01   4.17304802e-01   5.58689828e-01   1.40386939e-01\n",
      "    1.98101489e-01]\n",
      " [  8.00744569e-01   9.68261576e-01   3.13424178e-01   6.92322616e-01\n",
      "    8.76389152e-01]]\n",
      "output[0, 0, :, :] =\n",
      "[[ 0.72032449  0.39676747]\n",
      " [ 0.6852195   0.87811744]]\n",
      "With ignore_border set to False:\n",
      "invals[1, 0, :, :] =\n",
      "  [[ 0.01936696  0.67883553  0.21162812  0.26554666  0.49157316]\n",
      " [ 0.05336255  0.57411761  0.14672857  0.58930554  0.69975836]\n",
      " [ 0.10233443  0.41405599  0.69440016  0.41417927  0.04995346]\n",
      " [ 0.53589641  0.66379465  0.51488911  0.94459476  0.58655504]\n",
      " [ 0.90340192  0.1374747   0.13927635  0.80739129  0.39767684]]\n",
      "output[1, 0, :, :] =\n",
      "  [[ 0.67883553  0.58930554  0.69975836]\n",
      " [ 0.66379465  0.94459476  0.58655504]\n",
      " [ 0.90340192  0.80739129  0.39767684]]\n"
     ]
    }
   ],
   "source": [
    "from theano.tensor.signal import downsample\n",
    "\n",
    "input = T.dtensor4('input')\n",
    "maxpool_shape = (2, 2)\n",
    "pool_out = downsample.max_pool_2d(input, maxpool_shape, ignore_border=True)\n",
    "f = theano.function([input],pool_out)\n",
    "\n",
    "invals = numpy.random.RandomState(1).rand(3, 2, 5, 5)\n",
    "print 'With ignore_border set to True:'\n",
    "print 'invals[0, 0, :, :] =\\n', invals[0, 0, :, :]\n",
    "print 'output[0, 0, :, :] =\\n', f(invals)[0, 0, :, :]\n",
    "\n",
    "pool_out = downsample.max_pool_2d(input, maxpool_shape, ignore_border=False)\n",
    "f = theano.function([input],pool_out)\n",
    "print 'With ignore_border set to False:'\n",
    "print 'invals[1, 0, :, :] =\\n ', invals[1, 0, :, :]\n",
    "print 'output[1, 0, :, :] =\\n ', f(invals)[1, 0, :, :]\n"
   ]
  },
  {
   "cell_type": "code",
   "execution_count": null,
   "metadata": {
    "collapsed": true
   },
   "outputs": [],
   "source": []
  }
 ],
 "metadata": {
  "kernelspec": {
   "display_name": "Python 2",
   "language": "python",
   "name": "python2"
  },
  "language_info": {
   "codemirror_mode": {
    "name": "ipython",
    "version": 2
   },
   "file_extension": ".py",
   "mimetype": "text/x-python",
   "name": "python",
   "nbconvert_exporter": "python",
   "pygments_lexer": "ipython2",
   "version": "2.7.10"
  }
 },
 "nbformat": 4,
 "nbformat_minor": 0
}
